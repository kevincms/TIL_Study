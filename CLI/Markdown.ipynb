{
 "cells": [
  {
   "cell_type": "markdown",
   "metadata": {},
   "source": [
    "## Markdown\n",
    "\n",
    "Markdown은 기본적으로는 메모장의 일반 텍스트와 유사하다.  \n",
    "하지만 메모장과 달리 줄바꿈을 할 때 문장 끝에 띄어쓰기 2번을 해야한다.  \n",
    "또한 여러 특수기호를 통해 텍스트의 속성을 변화할 수 있다."
   ]
  },
  {
   "cell_type": "markdown",
   "metadata": {},
   "source": [
    "## 요약본\n",
    "1. 앞에 작성\n",
    "- Header : #, ##, ###\n",
    "- unordered list : -, +, *\n",
    "- ordered list : 1. \n",
    "- >BlockQuote : >\n",
    "2. 양쪽에 작성  \n",
    "- *italic* : _, *  \n",
    "- **bold** : __, **\n",
    "- ~~strikethrough~~ : ~~\n",
    "- <u>underline</u> : u <태크></태크>  \n",
    "3. 특수\n",
    "줄바꿈 : 띄어쓰기 2칸  \n",
    "줄표시 : ---\n",
    "---"
   ]
  },
  {
   "cell_type": "markdown",
   "metadata": {},
   "source": [
    "# Header 1  \n",
    "## Header 2  \n",
    "### Header 3  \n",
    "Header는 주로 제목이나 부제목 등을 작성할 떄 사용한다.  \n",
    "Header 7부터는 지원하지 않는다.  \n",
    "\n",
    "---  \n",
    "- unordered list\n",
    "+ Python\n",
    "* Markdown\n",
    "\n",
    "---\n",
    "1. ordered list\n",
    "2. 앞의 숫자와 상관없이\n",
    "1. 순서가 맞추어 진다. \n",
    "\n",
    "---\n",
    "> BlockQuote\n",
    ">> 들여쓰기 가능"
   ]
  },
  {
   "cell_type": "markdown",
   "metadata": {},
   "source": [
    "- _기울어진 글씨_ 를 쓸 때 사용한다. (*italic* _italic_  )\n",
    "- __강조__ 를 쓸 때 사용한다. (**bold**  __bold__ )  \n",
    "- 기울임과 강조를 동시에 사용할 수 있다. (__*italic-bold*__ **_italic-bold_**)\n",
    "- ~~취소선~~을 쓸 때 사용한다. (~~strikethrough~~)\n",
    "- <u>밑줄</u>을 쓸 때 사용한다. (<u>underline</u>)"
   ]
  }
 ],
 "metadata": {
  "language_info": {
   "name": "python"
  },
  "orig_nbformat": 4
 },
 "nbformat": 4,
 "nbformat_minor": 2
}
