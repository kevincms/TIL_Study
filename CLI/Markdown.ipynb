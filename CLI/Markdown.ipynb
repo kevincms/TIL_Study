{
 "cells": [
  {
   "cell_type": "markdown",
   "metadata": {},
   "source": [
    "## Markdown\n",
    "\n",
    "Markdown은 마크업 언어의 일종이다. [마크업 언어 : 문서가 화면에 표시되는 형식을 나타내거나 데이터의 논리적인 구조를 명시하기 위한 규칙들을 정의한 언어의 일종]  \n",
    "특수한 규칙들로 문자의 형식을 바꿀 수 있고 html tag를 사용할 수 있다."
   ]
  },
  {
   "cell_type": "markdown",
   "metadata": {},
   "source": [
    "## 요약본\n",
    "1. 앞에 작성\n",
    "- Header : #, ##, ###\n",
    "- unordered list : -, +, *\n",
    "- ordered list : 1. \n",
    "- >BlockQuote : >\n",
    "2. 양쪽에 작성  \n",
    "- *italic* : _, *  \n",
    "- **bold** : __, **\n",
    "- ~~strikethrough~~ : ~~\n",
    "- <u>underline</u> : <u_tag></u_tag>  \n",
    "3. 특수  \n",
    "- 줄바꿈 : 띄어쓰기 2칸  \n",
    "- 줄표시 : ---  \n",
    "- 표 :  \n",
    "|column1|column2|  \n",
    "|---|---|  \n",
    "|content1|content2|  \n",
    "- 이미지 : ![사진 이름](사진 URL)\n",
    "4. html  \n",
    "- 색깔 : 아무 tag + style=\"color:색깔\"  \n",
    "- 이미지 : img tag  \n",
    "> - img src=\"url\" width=\"300px or 50%\" height=\"300px or 50%\"\n",
    "각주 : apt tag\n",
    "---"
   ]
  },
  {
   "cell_type": "markdown",
   "metadata": {},
   "source": [
    "# Header 1  \n",
    "## Header 2  \n",
    "### Header 3  \n",
    "Header는 주로 제목이나 부제목 등을 작성할 떄 사용한다.  \n",
    "Header 7부터는 지원하지 않는다.  \n",
    "\n",
    "---  \n",
    "- unordered list\n",
    "+ Python\n",
    "* Markdown\n",
    "\n",
    "---\n",
    "1. ordered list\n",
    "2. 앞의 숫자와 상관없이\n",
    "1. 순서가 맞추어 진다. \n",
    "\n",
    "---\n",
    "> BlockQuote\n",
    ">> 들여쓰기 가능"
   ]
  },
  {
   "cell_type": "markdown",
   "metadata": {},
   "source": [
    "- _기울어진 글씨_ 를 쓸 때 사용한다. (*italic* _italic_  )\n",
    "- __강조__ 를 쓸 때 사용한다. (**bold**  __bold__ )  \n",
    "- 기울임과 강조를 동시에 사용할 수 있다. (__*italic-bold*__ **_italic-bold_**)\n",
    "- ~~취소선~~을 쓸 때 사용한다. (~~strikethrough~~)\n",
    "- <u>밑줄</u>을 쓸 때 사용한다. (<u>underline</u>)"
   ]
  },
  {
   "cell_type": "markdown",
   "metadata": {},
   "source": [
    "|python|markdown|\n",
    "|---|---|  \n",
    "|인터프린터 언어|마크업 언어| \n",
    "\n",
    "![마크다운 예시 사진](https://raw.githubusercontent.com/kevincms/image/main/%EC%9E%A1%EC%82%AC%EC%A7%84/%EB%A7%88%ED%81%AC%EB%8B%A4%EC%9A%B4.png)  "
   ]
  },
  {
   "cell_type": "markdown",
   "metadata": {},
   "source": [
    "## 자주 쓰는 Html tag\n",
    "1. 색깔  \n",
    "<span style=\"color:red\">span</span>\n",
    "- span tag 사용\n",
    "- style : color[글씨 색깔 지정], background-color[글씨 배경색 지정]\n",
    "\n",
    "2. 이미지  \n",
    "<img src=\"https://raw.githubusercontent.com/kevincms/image/main/%EC%9E%A1%EC%82%AC%EC%A7%84/%EB%A7%88%ED%81%AC%EB%8B%A4%EC%9A%B4.png\" width=\"15%\" height=\"15%\"/>\n",
    "- img tag 사용\n",
    "- src : 사진의 url 또는 경로\n",
    "- width, height : 숫자를 쓰거나 px를 붙일 시 px 단위로 사진크기 지정, % 사용시 비율로 사진크기 지정\n",
    "\n",
    "3. 각주<sup id=\"a1\">[1](#apt)</sup>  \n",
    "<span id=\"apt\">원하는 추가설명. markdown에서는 popup 형식은 힘들거 같음. web 환경에서는 가능</span>"
   ]
  }
 ],
 "metadata": {
  "language_info": {
   "name": "python"
  },
  "orig_nbformat": 4
 },
 "nbformat": 4,
 "nbformat_minor": 2
}
