{
 "cells": [
  {
   "cell_type": "code",
   "execution_count": 67,
   "metadata": {},
   "outputs": [
    {
     "name": "stderr",
     "output_type": "stream",
     "text": [
      "\n",
      "\n",
      "====== WebDriver manager ======\n",
      "Current google-chrome version is 100.0.4896\n",
      "Get LATEST chromedriver version for 100.0.4896 google-chrome\n",
      "Driver [C:\\Users\\korea\\.wdm\\drivers\\chromedriver\\win32\\100.0.4896.60\\chromedriver.exe] found in cache\n"
     ]
    }
   ],
   "source": [
    "from selenium import webdriver\n",
    "from webdriver_manager.chrome import ChromeDriverManager\n",
    "\n",
    "chromedriver_path=ChromeDriverManager().install()\n",
    "\n",
    "options=webdriver.chrome.options.Options()\n",
    "user_agent = \"Mozilla/5.0 (Windows NT 10.0; Win64; x64) AppleWebKit/537.36 (KHTML, like Gecko) Chrome/100.0.4896.127 Safari/537.36\"\n",
    "options.add_argument(\"user-agent=\" + user_agent)\n",
    "\n",
    "browser=webdriver.Chrome(chromedriver_path,options=options)\n",
    "\n",
    "url=\"http://www.kmooc.kr/\"\n",
    "browser.get(url)    # 링크로 이동"
   ]
  },
  {
   "cell_type": "code",
   "execution_count": 68,
   "metadata": {},
   "outputs": [],
   "source": [
    "# 로그인\n",
    "browser.find_element_by_id(\"pop_close_84\").click()\n",
    "browser.find_element_by_id(\"pop_close_85\").click()\n",
    "ad_close=browser.find_elements_by_link_text(\"[닫기]\")\n",
    "ad_close[0].click()\n",
    "ad_close[1].click()\n",
    "browser.find_element_by_class_name(\"new-btn-signin\").click()\n",
    "browser.find_elements_by_class_name(\"icon-image\")[1].click()\n",
    "browser.find_element_by_link_text(\"QR코드\").click()"
   ]
  },
  {
   "cell_type": "code",
   "execution_count": 69,
   "metadata": {},
   "outputs": [],
   "source": [
    "# 강좌\n",
    "browser.find_element_by_link_text(\"kevincms314\").click()\n",
    "browser.find_element_by_link_text(\"내 강의실\").click()\n",
    "browser.find_element_by_link_text(\"청강강좌\").click()"
   ]
  },
  {
   "cell_type": "code",
   "execution_count": 70,
   "metadata": {},
   "outputs": [],
   "source": [
    "# 강좌\n",
    "num=1 # n번쨰 강좌\n",
    "browser.find_elements_by_class_name(\"enter-course\")[2*num-2].click()\n",
    "browser.find_element_by_id(\"expand-collapse-outline-all-button\").click()"
   ]
  },
  {
   "cell_type": "code",
   "execution_count": 126,
   "metadata": {},
   "outputs": [
    {
     "name": "stdout",
     "output_type": "stream",
     "text": [
      "1-1-1 What is Big Data？.mp4 3\n",
      "1-1-2 Prospects of Big Data.mp4 4\n",
      "1-2-1 System Architecture for Big Data.mp4 8\n",
      "1-2-2 Challenges of Big Data Processing.mp4 9\n",
      "1-2-3 Big Data Projects.mp4 10\n",
      "2-1-1 Data Storage.mp4 13\n",
      "2-1-2 Components of Data Model.mp4 14\n",
      "2-1-3 Databases.mp4 15\n",
      "2-2-1 Relational Databases.mp4 19\n",
      "2-2-2 Data Representation.mp4 20\n",
      "2-2-3 Relational Algebra.mp4 21\n",
      "3-1-1 Set vs. Bag.mp4 28\n",
      "3-1-2 Basic Relational Algebra Operations.mp4 29\n",
      "3-2-1 What is SQLite.mp4 33\n",
      "3-2-2 Practice.mp4 34\n",
      "4-1-1 Extended Relational Algebra Operations.mp4 39\n",
      "4-1-2 Interpreting Complicated SQL.mp4 40\n",
      "4-1-3 User-Defined Function.mp4 41\n",
      "4-2-1 Query Plan Generation.mp4 45\n",
      "4-2-2 View and Index.mp4 46\n"
     ]
    },
    {
     "ename": "AttributeError",
     "evalue": "'NoneType' object has no attribute 'find'",
     "output_type": "error",
     "traceback": [
      "\u001b[1;31m---------------------------------------------------------------------------\u001b[0m",
      "\u001b[1;31mAttributeError\u001b[0m                            Traceback (most recent call last)",
      "\u001b[1;32mc:\\Users\\korea\\OneDrive\\Project_Melon_Musk\\Visual Studio Code\\Python\\Project\\Download\\K-MOOC\\Test_Scraping.ipynb Cell 5'\u001b[0m in \u001b[0;36m<cell line: 38>\u001b[1;34m()\u001b[0m\n\u001b[0;32m     <a href='vscode-notebook-cell:/c%3A/Users/korea/OneDrive/Project_Melon_Musk/Visual%20Studio%20Code/Python/Project/Download/K-MOOC/Test_Scraping.ipynb#ch0000006?line=53'>54</a>\u001b[0m soup\u001b[39m=\u001b[39mbs4\u001b[39m.\u001b[39mBeautifulSoup(html,\u001b[39m\"\u001b[39m\u001b[39mlxml\u001b[39m\u001b[39m\"\u001b[39m)\n\u001b[0;32m     <a href='vscode-notebook-cell:/c%3A/Users/korea/OneDrive/Project_Melon_Musk/Visual%20Studio%20Code/Python/Project/Download/K-MOOC/Test_Scraping.ipynb#ch0000006?line=54'>55</a>\u001b[0m video\u001b[39m=\u001b[39msoup\u001b[39m.\u001b[39mfind(\u001b[39m\"\u001b[39m\u001b[39mdiv\u001b[39m\u001b[39m\"\u001b[39m,attrs\u001b[39m=\u001b[39m{\u001b[39m\"\u001b[39m\u001b[39mclass\u001b[39m\u001b[39m\"\u001b[39m:\u001b[39m\"\u001b[39m\u001b[39mvideo-player\u001b[39m\u001b[39m\"\u001b[39m})\n\u001b[1;32m---> <a href='vscode-notebook-cell:/c%3A/Users/korea/OneDrive/Project_Melon_Musk/Visual%20Studio%20Code/Python/Project/Download/K-MOOC/Test_Scraping.ipynb#ch0000006?line=55'>56</a>\u001b[0m video\u001b[39m=\u001b[39mvideo\u001b[39m.\u001b[39;49mfind(\u001b[39m\"\u001b[39m\u001b[39msource\u001b[39m\u001b[39m\"\u001b[39m)\n\u001b[0;32m     <a href='vscode-notebook-cell:/c%3A/Users/korea/OneDrive/Project_Melon_Musk/Visual%20Studio%20Code/Python/Project/Download/K-MOOC/Test_Scraping.ipynb#ch0000006?line=56'>57</a>\u001b[0m video_url\u001b[39m=\u001b[39mvideo\u001b[39m.\u001b[39mattrs[\u001b[39m\"\u001b[39m\u001b[39msrc\u001b[39m\u001b[39m\"\u001b[39m]\n\u001b[0;32m     <a href='vscode-notebook-cell:/c%3A/Users/korea/OneDrive/Project_Melon_Musk/Visual%20Studio%20Code/Python/Project/Download/K-MOOC/Test_Scraping.ipynb#ch0000006?line=57'>58</a>\u001b[0m file_name\u001b[39m=\u001b[39mtitle\u001b[39m+\u001b[39m\u001b[39m\"\u001b[39m\u001b[39m.mp4\u001b[39m\u001b[39m\"\u001b[39m\n",
      "\u001b[1;31mAttributeError\u001b[0m: 'NoneType' object has no attribute 'find'"
     ]
    }
   ],
   "source": [
    "# 다운로드\n",
    "\n",
    "def not_avaible_str_in_file(file_string):\n",
    "    not_avaible_str_list=[\"\\\\\",\"/\",\":\",\"*\",\"?\",\"\\\"\",\"<\",\">\",\"|\"]\n",
    "    for i in not_avaible_str_list:\n",
    "        if i in file_string:\n",
    "            if i==\"\\\\\":\n",
    "                file_string=file_string.replace(i,\"＼\")\n",
    "            elif i==\"/\":\n",
    "                # file_string=file_string.replace(i,\"÷\")\n",
    "                file_string=file_string.replace(i,\"／\")\n",
    "            elif i==\":\":\n",
    "                file_string=file_string.replace(i,\"：\")\n",
    "            elif i==\"*\":\n",
    "                file_string=file_string.replace(i,\"×\")\n",
    "                # file_string=file_string.replace(i,\"＊\")\n",
    "            elif i==\"?\":\n",
    "                file_string=file_string.replace(i,\"？\")\n",
    "            elif i==\"\\\"\":\n",
    "                file_string=file_string.replace(i,\"＂\")\n",
    "            elif i==\"<\":\n",
    "                file_string=file_string.replace(i,\"＜\")\n",
    "            elif i==\">\":\n",
    "                file_string=file_string.replace(i,\"＞\")\n",
    "            elif i==\"|\":\n",
    "                file_string=file_string.replace(i,\"｜\")\n",
    "    return file_string\n",
    "\n",
    "import bs4\n",
    "import urllib.request\n",
    "\n",
    "section=browser.find_elements_by_class_name(\"vertical-title\")\n",
    "# section_title=browser.find_elements_by_class_name(\"subsection-title\")\n",
    "size=len(section)\n",
    "# print(len(section),len(section_title))\n",
    "file_location=\"D:\\영상녹화\\Download\\\\\"\n",
    "count=0\n",
    "for i in range(size):\n",
    "    section=browser.find_elements_by_class_name(\"vertical-title\")\n",
    "    # section_title=browser.find_elements_by_class_name(\"subsection-title\")\n",
    "\n",
    "    title=section[i].text\n",
    "    # title=section_title[i].text\n",
    "\n",
    "    title=not_avaible_str_in_file(title)\n",
    "\n",
    "    if not (\"-\" in title) : continue\n",
    "\n",
    "    # if title[0]==\"1\": count+=1\n",
    "    # title=\"%d-\"%(count)+title\n",
    "    \n",
    "    section[i].click()\n",
    "    html=browser.page_source\n",
    "    soup=bs4.BeautifulSoup(html,\"lxml\")\n",
    "    video=soup.find(\"div\",attrs={\"class\":\"video-player\"})\n",
    "    video=video.find(\"source\")\n",
    "    video_url=video.attrs[\"src\"]\n",
    "    file_name=title+\".mp4\"\n",
    "    create_file=file_location+file_name\n",
    "    urllib.request.urlretrieve(video_url, create_file)\n",
    "    print(file_name, i)\n",
    "    browser.back()\n",
    "    browser.find_element_by_id(\"expand-collapse-outline-all-button\").click()\n",
    "    "
   ]
  },
  {
   "cell_type": "code",
   "execution_count": 90,
   "metadata": {},
   "outputs": [],
   "source": []
  }
 ],
 "metadata": {
  "interpreter": {
   "hash": "32b29a5269e5b4ec4150bae32ab0213fc3d170d9e4d782ce395c02e78af463a6"
  },
  "kernelspec": {
   "display_name": "Python 3.10.4 ('normal')",
   "language": "python",
   "name": "python3"
  },
  "language_info": {
   "codemirror_mode": {
    "name": "ipython",
    "version": 3
   },
   "file_extension": ".py",
   "mimetype": "text/x-python",
   "name": "python",
   "nbconvert_exporter": "python",
   "pygments_lexer": "ipython3",
   "version": "3.10.4"
  },
  "orig_nbformat": 4
 },
 "nbformat": 4,
 "nbformat_minor": 2
}
