{
 "cells": [
  {
   "cell_type": "markdown",
   "metadata": {},
   "source": [
    "## jupyer notebook은 셀 단위로 Python을 실행할 수 있다.   \n",
    "  \n",
    "셀 안의 내용을 클릭하면 입력모드  \n",
    "셀 테두리를 클릭하면 명령모드가 된다.  \n",
    "\n",
    "입력모드에서 Esc로 명령모드로  \n",
    "명령모드에서 Enter로 입력모드로 이동할 수 있다.\n",
    "\n",
    "셀은 Python 셀과 Markdown 셀 2동류가 있다.  \n",
    "Python 셀에서는 Python 코드를 실행할 수 있고  \n",
    "Markdown 셀에서는 Markdown을 작성할 수 있다.  "
   ]
  },
  {
   "cell_type": "markdown",
   "metadata": {},
   "source": [
    "## 명령모드에서 단축키를 알아보자  \n",
    "  \n",
    "a : 위쪽에 셀 생성(above))  \n",
    "b : 아래쪽에 셀 생성(below)  \n",
    "dd : 셀 삭제  \n",
    "l : Python 셀의 코드 번호 표시  \n",
    "y : 셀을 Python 샐로 바꿈\n",
    "m : 셀을 Markdown 셀로 바꿈  \n",
    "x : 셀 Ctrl+x  \n",
    "c : 셀 Ctrl+c  \n",
    "v : 셀 Ctrl+v"
   ]
  },
  {
   "cell_type": "code",
   "execution_count": 7,
   "metadata": {},
   "outputs": [
    {
     "name": "stdout",
     "output_type": "stream",
     "text": [
      "Hello Jupyer Notebook\n"
     ]
    }
   ],
   "source": [
    "# Python 셀은 아래 단축키로 실행이 가능 (입력모드와 명령모드 모두 가능)\n",
    "# Ctrl+Enter 셀 실행\n",
    "# Shift+Enter 셀 실행 후 셀 이동 (뒤에 셀이 없을 때는 셀이 생성된다.)\n",
    "# Alt+Enter 셀 실행 후 셀 생성\n",
    "print(\"Hello Jupyer Notebook\") "
   ]
  }
 ],
 "metadata": {
  "interpreter": {
   "hash": "abe90d89d817704c744490846f37f03b651c163a107fe4c97f00fc3edb7ddbe8"
  },
  "kernelspec": {
   "display_name": "Python 3.8.5 32-bit",
   "name": "python3"
  },
  "language_info": {
   "codemirror_mode": {
    "name": "ipython",
    "version": 3
   },
   "file_extension": ".py",
   "mimetype": "text/x-python",
   "name": "python",
   "nbconvert_exporter": "python",
   "pygments_lexer": "ipython3",
   "version": "3.8.5"
  },
  "orig_nbformat": 4
 },
 "nbformat": 4,
 "nbformat_minor": 2
}
