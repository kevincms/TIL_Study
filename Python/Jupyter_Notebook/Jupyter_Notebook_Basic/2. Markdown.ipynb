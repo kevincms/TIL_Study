{
 "cells": [
  {
   "cell_type": "markdown",
   "source": [
    "## Markdown\r\n",
    "\r\n",
    "Markdown은 기본적으로는 메모장의 일반 텍스트와 유사하다.  \r\n",
    "하지만 메모장과 달리 줄바꿈을 할 때 문장 끝에 띄어쓰기 2번을 해야한다.  \r\n",
    "또한 여러 특수기호를 통해 텍스트의 속성을 변화할 수 있다."
   ],
   "metadata": {}
  },
  {
   "cell_type": "markdown",
   "source": [
    "## 요약본\r\n",
    "- Header : #, ##, ###  \r\n",
    "- *italic* : _, *  \r\n",
    "- **bold** : __, **\r\n",
    "- ~strikethrough~ : ~\r\n",
    "- unordered list : -, ...\r\n",
    "- ordered list : 1. "
   ],
   "metadata": {}
  },
  {
   "cell_type": "markdown",
   "source": [
    "# Header 1  \r\n",
    "## Header 2  \r\n",
    "### Header 3  \r\n",
    "#### Header 4  \r\n",
    "##### Header 5  \r\n",
    "###### Header 6  \r\n",
    "Header 7부터는 지원하지 않는다.  \r\n",
    "Header는 주로 제목이나 부제목 등을 작성할 떄 사용한다."
   ],
   "metadata": {}
  },
  {
   "cell_type": "markdown",
   "source": [
    "*italic*  \r\n",
    "_italic_  \r\n",
    "기울어진 글씨를 쓸 때 사용한다."
   ],
   "metadata": {}
  }
 ],
 "metadata": {
  "orig_nbformat": 4,
  "language_info": {
   "name": "python"
  }
 },
 "nbformat": 4,
 "nbformat_minor": 2
}