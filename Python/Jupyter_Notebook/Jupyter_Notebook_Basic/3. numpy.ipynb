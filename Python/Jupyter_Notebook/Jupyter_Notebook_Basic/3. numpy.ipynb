{
 "cells": [
  {
   "cell_type": "code",
   "execution_count": 187,
   "metadata": {},
   "outputs": [
    {
     "name": "stdout",
     "output_type": "stream",
     "text": [
      "1. [[0 1 2]\n",
      " [3 4 5]] 2*3 행렬\n",
      "2. [[0 1 2]\n",
      "    [3 4 5]] 2*3 행렬\n",
      "3. [[0 1 2]\n",
      "    [3 4 5]] 2*3 행렬\n",
      "[[0 1 2]\n",
      " [3 4 5]]"
     ]
    }
   ],
   "source": [
    "# numpy 줄 맞추기\n",
    "import numpy as np\n",
    "\n",
    "matrix=np.array(range(6)).reshape(2,3)\n",
    "count=1\n",
    "\n",
    "# 1. 출력이 밀려 줄이 맞추어 지지 않는다.\n",
    "print(\"{}. {} 2*3 행렬\".format(count,matrix)) \n",
    "count+=1\n",
    "\n",
    "# 2. array2string의 prefix를 이용해 앞줄을 맞출 수 있다.\n",
    "print(\"{}. {} 2*3 행렬\".format(count,np.array2string(matrix,prefix=\"%d. \"%count))) \n",
    "count+=1\n",
    "\n",
    "# 3. 자리수만 채워도 제대로 동작한다.\n",
    "print(\"{}. {} 2*3 행렬\".format(count,np.array2string(matrix,prefix=\"   \"))) \n",
    "count+=1\n",
    "\n",
    "# 4. numpy 나란히 출력하기 - 3차원 이하의 배열\n",
    "def print_matrix(matrix):\n",
    "    import numpy as np\n",
    "    align_count=0\n",
    "    temp_count=0\n",
    "    rjust_size=len(str(np.max(matrix)))\n",
    "    def print_main(temp_matrix):\n",
    "        nonlocal align_count, matrix, temp_count\n",
    "        temp_matrix_size=temp_matrix.shape\n",
    "        if len(temp_matrix_size)==1:\n",
    "            align_count+=1\n",
    "            if align_count>=2:\n",
    "                matrix_size=matrix.shape\n",
    "                align_cal=len(matrix_size)-1\n",
    "                if 1==align_count%matrix_size[align_cal-1]:\n",
    "                    pass\n",
    "                else: \n",
    "                    for i in range(align_cal):\n",
    "                        print(\" \",end=\"\")\n",
    "            for i in range(temp_matrix_size[0]):\n",
    "                if i==0: print(\"[\"+str(temp_matrix[i]).rjust(rjust_size),end=\" \")\n",
    "                elif i==temp_matrix_size[0]-1: print(str(temp_matrix[i]).rjust(rjust_size)+\"]\",end=\"\")\n",
    "                else: print(str(temp_matrix[i]).rjust(rjust_size), end=\" \")\n",
    "        else:\n",
    "            for i in range(temp_matrix_size[0]):\n",
    "                temp_count+=1\n",
    "                if temp_count>=2: # 4차원 이상의 배열을 출력할 경우 수정해야함.\n",
    "                    print(\" \",end=\"\")\n",
    "                    temp_count=0\n",
    "                if i==0: \n",
    "                    print(\"[\",end=\"\")\n",
    "                    temp_count=0\n",
    "                print_main(temp_matrix[i])\n",
    "                if i==temp_matrix_size[0]-1: \n",
    "                    print(\"]\",end=\"\")\n",
    "                    temp_count=0\n",
    "                else: \n",
    "                    print(\"\")\n",
    "                    temp_count=0\n",
    "    print_main(matrix)\n",
    "\n",
    "# matrix[0,0]=133\n",
    "# matrix=np.array(range(24)).reshape(2,3,4)\n",
    "print_matrix(matrix)"
   ]
  },
  {
   "cell_type": "code",
   "execution_count": 131,
   "metadata": {},
   "outputs": [
    {
     "name": "stdout",
     "output_type": "stream",
     "text": [
      "1. [ 0  1  2  3  4  5  6  7  8  9 10 11 12 13 14 15 16 17 18 19 20 21 22 23] <class 'numpy.ndarray'>\n",
      "2. (24,) <class 'tuple'>\n",
      "3. [[[ 0  1  2  3]\n",
      "     [ 4  5  6  7]\n",
      "     [ 8  9 10 11]]\n",
      "\n",
      "    [[12 13 14 15]\n",
      "     [16 17 18 19]\n",
      "     [20 21 22 23]]]\n",
      "4. 6\n",
      "5. [[ 4  5  6]\n",
      " [ 8  9 10]]\n"
     ]
    }
   ],
   "source": [
    "# numpy를 사용하는 이유- 속도차이\n",
    "import numpy as np # numpy 모듈을 불러옴 - 주로 행렬, 벡터, 다차원 배열을 처리하기 위해 쓰임\n",
    "\n",
    "count=1\n",
    "array=np.array(range(24)) # 1. list, tuple, set 등을 array로 바꿔줌\n",
    "print(\"{}. {} {}\".format(count,array,type(array)))\n",
    "count+=1\n",
    "\n",
    "print(\"{}. {} {}\".format(count,array.shape,type(array.shape))) # 2. array의 크기 반환\n",
    "count+=1\n",
    "\n",
    "array=array.reshape(2,3,4)\n",
    "print(\"{}. {}\".format(count,np.array2string(array,prefix=\"   \"))) # 3. array의 크기 변환\n",
    "count+=1\n",
    "\n",
    "print(\"{}. {}\".format(count,array[0,1,2])) # 4. 배열([][])과 달리 [,] 를 이용해 indexing 을 할 수 있다.\n",
    "count+=1\n",
    "\n",
    "print(\"{}. {}\".format(count,array[0,1:,:3])) # 5. array도 list처럼 sllicing을 사용할 수 있다.\n",
    "count+=1"
   ]
  },
  {
   "cell_type": "code",
   "execution_count": 29,
   "metadata": {},
   "outputs": [
    {
     "name": "stdout",
     "output_type": "stream",
     "text": [
      "1. [6 7 8]\n",
      "2. [-4 -3 -2]\n",
      "3. [ 5 10 15]\n",
      "4. [0.2 0.4 0.6]\n",
      "5. [5 7 9]\n",
      "6. [-3 -3 -3]\n",
      "7. [ 4 10 18]\n",
      "8. [0.25 0.4  0.5 ]\n"
     ]
    }
   ],
   "source": [
    "import numpy as np\n",
    "\n",
    "# 벡터와 스칼라 연산\n",
    "x=np.array([1,2,3])\n",
    "count=1\n",
    "c=5\n",
    "print(\"{}. {}\".format(count,x+c)) #  1. 더하기\n",
    "count+=1\n",
    "\n",
    "print(\"{}. {}\".format(count,x-c)) #  2. 빼기\n",
    "count+=1\n",
    "\n",
    "print(\"{}. {}\".format(count,x*c)) #  3. 곱하기\n",
    "count+=1\n",
    "\n",
    "print(\"{}. {}\".format(count,x/c)) #  4. 나누기\n",
    "count+=1\n",
    "\n",
    "# 벡터와 벡터 연산\n",
    "y=np.array([4,5,6])\n",
    "print(\"{}. {}\".format(count,x+y)) #  5. 더하기\n",
    "count+=1\n",
    "\n",
    "print(\"{}. {}\".format(count,x-y)) #  6. 빼기\n",
    "count+=1\n",
    "\n",
    "print(\"{}. {}\".format(count,x*y)) #  7. 곱하기\n",
    "count+=1\n",
    "\n",
    "print(\"{}. {}\".format(count,x/y)) #  8. 나누기\n",
    "count+=1"
   ]
  },
  {
   "cell_type": "code",
   "execution_count": 133,
   "metadata": {},
   "outputs": [
    {
     "name": "stdout",
     "output_type": "stream",
     "text": [
      "1. [[1 2]\n",
      "    [3 4]]\n",
      "2. [[5 6]\n",
      "    [7 8]]\n",
      "3. [[19 22]\n",
      "    [43 50]]\n",
      "4. [[19 22]\n",
      "    [43 50]]\n",
      "5. 5\n",
      "6. -2.0000000000000004\n",
      "7. [[-2.   1. ]\n",
      "    [ 1.5 -0.5]]\n",
      "8. [-0.37228132  5.37228132]\n",
      "9. [[-0.82456484 -0.41597356]\n",
      "    [ 0.56576746 -0.90937671]]\n"
     ]
    }
   ],
   "source": [
    "import numpy as np\n",
    "\n",
    "# 행렬 연산\n",
    "matrix_1=np.array(range(1,5)).reshape([2,2])\n",
    "matrix_2=np.array(range(5,9)).reshape([2,2])\n",
    "count=1\n",
    "\n",
    "print(\"{}. {}\".format(count,np.array2string(matrix_1,prefix=\"   \"))) # 1.\n",
    "count+=1\n",
    "\n",
    "print(\"{}. {}\".format(count,np.array2string(matrix_2,prefix=\"   \"))) # 2.\n",
    "count+=1\n",
    "\n",
    "print(\"{}. {}\".format(count,np.array2string(matrix_1.dot(matrix_2),prefix=\"   \"))) # 3. 행렬 곱 ver 1\n",
    "count+=1\n",
    "\n",
    "print(\"{}. {}\".format(count,np.array2string(matrix_1@matrix_2,prefix=\"   \"))) # 4. 행렬 곱 ver 2\n",
    "count+=1\n",
    "\n",
    "print(\"{}. {}\".format(count,np.trace(matrix_1))) # 5. 주대각선의 합 variable.trace()의 형태로도 사용 가능\n",
    "count+=1\n",
    "\n",
    "print(\"{}. {}\".format(count,np.linalg.det(matrix_1))) # 6. determinet 겂\n",
    "count+=1\n",
    "\n",
    "print(\"{}. {}\".format(count,np.array2string(np.linalg.inv(matrix_1),prefix=\"   \"))) # 7. 역행렬\n",
    "count+=1\n",
    "\n",
    "eigenvalue, eigenvector=np.linalg.eig(matrix_1)\n",
    "print(\"{}. {}\".format(count,eigenvalue)) # 8. 고유값\n",
    "count+=1\n",
    "\n",
    "print(\"{}. {}\".format(count,np.array2string(eigenvector,prefix=\"   \"))) # 9. 고유벡터\n",
    "count+=1"
   ]
  }
 ],
 "metadata": {
  "interpreter": {
   "hash": "abe90d89d817704c744490846f37f03b651c163a107fe4c97f00fc3edb7ddbe8"
  },
  "kernelspec": {
   "display_name": "Python 3.8.5 32-bit",
   "name": "python3"
  },
  "language_info": {
   "codemirror_mode": {
    "name": "ipython",
    "version": 3
   },
   "file_extension": ".py",
   "mimetype": "text/x-python",
   "name": "python",
   "nbconvert_exporter": "python",
   "pygments_lexer": "ipython3",
   "version": "3.8.5"
  },
  "orig_nbformat": 4
 },
 "nbformat": 4,
 "nbformat_minor": 2
}
