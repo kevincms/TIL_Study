{
 "cells": [
  {
   "cell_type": "code",
   "execution_count": 12,
   "source": [
    "# numpy를 사용하는 이유- 속도차이\r\n",
    "import numpy as np # numpy 모듈을 불러옴 - 주로 행렬이나 다차원 배열을 처리하기 위해 쓰임\r\n",
    "\r\n",
    "count=1\r\n",
    "array=np.array([1,2,3]) # list, tuple, set 등을 행렬로 바꿔줌\r\n",
    "print(\"{}. {} {}\".format(count, array,type(array)))\r\n",
    "count+=1\r\n",
    "\r\n",
    "print(\"{}. {}\".format(count, array.shape)) # 행렬의 크기 반환\r\n",
    "count+=1"
   ],
   "outputs": [
    {
     "output_type": "stream",
     "name": "stdout",
     "text": [
      "1. [1 2 3] <class 'numpy.ndarray'>\n",
      "2. (3,)\n"
     ]
    }
   ],
   "metadata": {}
  },
  {
   "cell_type": "code",
   "execution_count": null,
   "source": [],
   "outputs": [],
   "metadata": {}
  }
 ],
 "metadata": {
  "orig_nbformat": 4,
  "language_info": {
   "name": "python",
   "version": "3.8.5",
   "mimetype": "text/x-python",
   "codemirror_mode": {
    "name": "ipython",
    "version": 3
   },
   "pygments_lexer": "ipython3",
   "nbconvert_exporter": "python",
   "file_extension": ".py"
  },
  "kernelspec": {
   "name": "python3",
   "display_name": "Python 3.8.5 32-bit"
  },
  "interpreter": {
   "hash": "abe90d89d817704c744490846f37f03b651c163a107fe4c97f00fc3edb7ddbe8"
  }
 },
 "nbformat": 4,
 "nbformat_minor": 2
}