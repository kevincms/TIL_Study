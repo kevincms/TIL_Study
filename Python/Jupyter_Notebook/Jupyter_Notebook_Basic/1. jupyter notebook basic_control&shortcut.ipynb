{
 "cells": [
  {
   "cell_type": "markdown",
   "source": [
    "jupyer notebook은 셀 단위로 Python을 실행할 수 있다.   \r\n",
    "  \r\n",
    "셀 안의 내용을 클릭하면 입력모드  \r\n",
    "셀 테두리를 클릭하면 명령모드가 된다.  \r\n",
    "\r\n",
    "입력모드에서 Esc로 명령모드로  \r\n",
    "명령모드에서 Enter로 입력모드로 이동할 수 있다."
   ],
   "metadata": {}
  },
  {
   "cell_type": "markdown",
   "source": [
    "셀은 Python 셀과 Markdown 셀 2동류가 있다.  \r\n",
    "Python 셀에서는 Python 코드를 실행할 수 있고  \r\n",
    "Markdown 셀에서는 Markdown을 작성할 수 있다.  \r\n",
    "  \r\n"
   ],
   "metadata": {}
  },
  {
   "cell_type": "markdown",
   "source": [
    "명령모드에서 단축키를 알아보자  \r\n",
    "  \r\n",
    "a : 위쪽에 셀 생성(above))  \r\n",
    "b : 아래쪽에 셀 생성(below)  \r\n",
    "dd : 셀 삭제  \r\n",
    "l : Python 셀의 코드 번호 표시  \r\n",
    "y : 셀을 Python 샐로 바꿈\r\n",
    "m : 셀을 Markdown 셀로 바꿈  "
   ],
   "metadata": {}
  },
  {
   "cell_type": "code",
   "execution_count": 7,
   "source": [
    "# Python 셀은 아래 단축키로 실행이 가능 (입력모드와 명령모드 모두 가능)\r\n",
    "# Ctrl+Enter 셀 실행\r\n",
    "# Shift+Enter 셀 실행 후 셀 이동 (뒤에 셀이 없을 때는 셀이 생성된다.)\r\n",
    "# Alt+Enter 셀 실행 후 셀 생성\r\n",
    "print(\"Hello Jupyer Notebook\") "
   ],
   "outputs": [
    {
     "output_type": "stream",
     "name": "stdout",
     "text": [
      "Hello Jupyer Notebook\n"
     ]
    }
   ],
   "metadata": {}
  }
 ],
 "metadata": {
  "orig_nbformat": 4,
  "language_info": {
   "name": "python",
   "version": "3.8.5",
   "mimetype": "text/x-python",
   "codemirror_mode": {
    "name": "ipython",
    "version": 3
   },
   "pygments_lexer": "ipython3",
   "nbconvert_exporter": "python",
   "file_extension": ".py"
  },
  "kernelspec": {
   "name": "python3",
   "display_name": "Python 3.8.5 32-bit"
  },
  "interpreter": {
   "hash": "abe90d89d817704c744490846f37f03b651c163a107fe4c97f00fc3edb7ddbe8"
  }
 },
 "nbformat": 4,
 "nbformat_minor": 2
}