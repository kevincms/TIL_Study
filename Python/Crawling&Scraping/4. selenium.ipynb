{
 "cells": [
  {
   "cell_type": "code",
   "execution_count": 9,
   "metadata": {},
   "outputs": [
    {
     "name": "stderr",
     "output_type": "stream",
     "text": [
      "C:\\Users\\korea\\AppData\\Local\\Temp/ipykernel_3612/3670905876.py:7: DeprecationWarning: executable_path has been deprecated, please pass in a Service object\n",
      "  browser=webdriver.Chrome(chromedriver_path) # 브라우저 실행\n",
      "C:\\Users\\korea\\AppData\\Local\\Temp/ipykernel_3612/3670905876.py:15: DeprecationWarning: find_element_by_* commands are deprecated. Please use find_element() instead\n",
      "  element_search=browser.find_element_by_id(\"query\")\n",
      "C:\\Users\\korea\\AppData\\Local\\Temp/ipykernel_3612/3670905876.py:18: DeprecationWarning: find_element_by_* commands are deprecated. Please use find_element() instead\n",
      "  element_login=browser.find_element_by_class_name(\"link_login\")\n"
     ]
    }
   ],
   "source": [
    "from selenium import webdriver\n",
    "\n",
    "folder_path=\"C:/Users/korea/OneDrive/Project_Melon_Musk/Visual Studio Code/Python/Crawling&Scraping\"\n",
    "chromedriver=\"/chromedriver.exe\"\n",
    "chromedriver_path=folder_path+chromedriver\n",
    "\n",
    "browser=webdriver.Chrome(chromedriver_path) # 브라우저 실행\n",
    "\n",
    "url=\"https://www.naver.com/\"\n",
    "browser.get(url)    # 링크로 이동\n",
    "# browser.forward() # 앞으로 가기\n",
    "# browser.back()    # 뒤로 가기\n",
    "# browser.refresh() # 새로고침\n",
    "\n",
    "# browser.find_element_by_() 로 처음의 특정 html 태그 추출\n",
    "# browser.find_elements_by_() 로 모든 특정 html 태그 추출\n",
    "element_search=browser.find_element_by_id(\"query\")\n",
    "element_login=browser.find_element_by_class_name(\"link_login\")\n",
    "\n",
    "# element.send_keys() : 키보드 입력 element.click() : 마우스 입력\n",
    "element_search.send_keys(\"selenium_test\")\n",
    "element_login.click()"
   ]
  },
  {
   "cell_type": "code",
   "execution_count": 7,
   "metadata": {},
   "outputs": [],
   "source": [
    "from selenium.webdriver.common.keys import Keys\n",
    "\n",
    "element_search.send_keys(Keys.ENTER)"
   ]
  }
 ],
 "metadata": {
  "interpreter": {
   "hash": "abe90d89d817704c744490846f37f03b651c163a107fe4c97f00fc3edb7ddbe8"
  },
  "kernelspec": {
   "display_name": "Python 3.8.5 32-bit",
   "language": "python",
   "name": "python3"
  },
  "language_info": {
   "codemirror_mode": {
    "name": "ipython",
    "version": 3
   },
   "file_extension": ".py",
   "mimetype": "text/x-python",
   "name": "python",
   "nbconvert_exporter": "python",
   "pygments_lexer": "ipython3",
   "version": "3.8.5"
  },
  "orig_nbformat": 4
 },
 "nbformat": 4,
 "nbformat_minor": 2
}
