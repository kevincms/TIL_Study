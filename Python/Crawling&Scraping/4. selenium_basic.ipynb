{
 "cells": [
  {
   "cell_type": "markdown",
   "metadata": {},
   "source": [
    "### Selenium Webdriver 실행방법 2가지"
   ]
  },
  {
   "cell_type": "code",
   "execution_count": 7,
   "metadata": {},
   "outputs": [],
   "source": [
    "# ver_1 chrome webdriver를 직접 설치해야 함.\n",
    "import os\n",
    "from selenium import webdriver # import webdriver를 하면 이유는 모르지만 한번에 실행되지 않음.\n",
    "\n",
    "folder_path=os.getcwd()\n",
    "chromedriver_ver=\"/chromedriver(100.0.4896.60).exe\"\n",
    "chromedriver_path=folder_path+chromedriver_ver\n",
    "chromedriver=webdriver.chrome.service.Service(chromedriver_path)\n",
    "\n",
    "# chorme log4j 이후 무언가 달라진듯 함\n",
    "# browser=webdriver.Chrome(service=chromedriver) # 브라우저 실행\n",
    "browser=webdriver.Chrome(chromedriver_path) # service를 정의하지 않으면 경고가 발생.\n",
    "\n",
    "url=\"https://www.naver.com/\"\n",
    "browser.get(url)    # 링크로 이동"
   ]
  },
  {
   "cell_type": "code",
   "execution_count": 10,
   "metadata": {},
   "outputs": [
    {
     "name": "stderr",
     "output_type": "stream",
     "text": [
      "\n",
      "\n",
      "====== WebDriver manager ======\n",
      "Current google-chrome version is 100.0.4896\n",
      "Get LATEST chromedriver version for 100.0.4896 google-chrome\n",
      "Driver [C:\\Users\\korea\\.wdm\\drivers\\chromedriver\\win32\\100.0.4896.60\\chromedriver.exe] found in cache\n"
     ]
    }
   ],
   "source": [
    "# ver_2 chrome webdriver가 자동으로 설치됨.\n",
    "from selenium import webdriver\n",
    "from webdriver_manager.chrome import ChromeDriverManager\n",
    "\n",
    "# chrome webdriver 위치 : C:\\Users\\korea\\.wdm\\drivers\\chromedriver\\win32\\98.0.4758.102\n",
    "chromedriver_path=ChromeDriverManager().install()\n",
    "chromedriver=webdriver.chrome.service.Service(chromedriver_path)\n",
    "\n",
    "# chorme log4j 이후 무언가 달라진듯 함\n",
    "# browser=webdriver.Chrome(service=chromedriver) # 브라우저 실행\n",
    "browser=webdriver.Chrome(chromedriver_path)\n",
    "\n",
    "url=\"https://www.naver.com/\"\n",
    "browser.get(url)    # 링크로 이동"
   ]
  },
  {
   "cell_type": "markdown",
   "metadata": {},
   "source": [
    "### Selenium Webdriver 기초 조작방법 "
   ]
  },
  {
   "cell_type": "code",
   "execution_count": 11,
   "metadata": {},
   "outputs": [],
   "source": [
    "# 1. 요소 추출\n",
    "element_search=browser.find_element_by_id(\"query\") # browser.find_element_by_() 로 처음의 특정 html 태그 추출\n",
    "element_login=browser.find_element_by_class_name(\"link_login\") # browser.find_elements_by_() 로 모든 특정 html 태그 추출\n",
    "\n",
    "# 2. 키보드 입력\n",
    "element_search.send_keys(\"selenium_test\")   # 문자열 입력\n",
    "element_search.clear()                      # 문자열 지우기\n",
    "\n",
    "# 3. 마우스 클릭\n",
    "element_login.click()\n",
    "\n",
    "# 4. 브라우저 특수키\n",
    "browser.back()    # 뒤로 가기\n",
    "browser.forward() # 앞으로 가기\n",
    "browser.refresh() # 새로고침\n",
    "\n",
    "# 5. 기다리기\n",
    "import time\n",
    "time.sleep(3) # 3초 기다림.\n",
    "\n",
    "# 6. 브라우저 종료\n",
    "# browser.close() # 현재 탭만 종료\n",
    "browser.quit() # 전체 브라우저 종료"
   ]
  }
 ],
 "metadata": {
  "interpreter": {
   "hash": "abe90d89d817704c744490846f37f03b651c163a107fe4c97f00fc3edb7ddbe8"
  },
  "kernelspec": {
   "display_name": "Python 3.8.5 32-bit",
   "language": "python",
   "name": "python3"
  },
  "language_info": {
   "codemirror_mode": {
    "name": "ipython",
    "version": 3
   },
   "file_extension": ".py",
   "mimetype": "text/x-python",
   "name": "python",
   "nbconvert_exporter": "python",
   "pygments_lexer": "ipython3",
   "version": "3.10.4"
  },
  "orig_nbformat": 4
 },
 "nbformat": 4,
 "nbformat_minor": 2
}
