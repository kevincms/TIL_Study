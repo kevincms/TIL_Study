{
 "cells": [
  {
   "cell_type": "markdown",
   "metadata": {},
   "source": [
    "### Selenium Webdriver 실행방법\n",
    "- pip install selenium\n",
    "- pip install webdriver_manager\n",
    "> - MAC인 경우 chromedriver 설치\n",
    ">> - brew install chromedriver"
   ]
  },
  {
   "cell_type": "code",
   "execution_count": 5,
   "metadata": {},
   "outputs": [],
   "source": [
    "from selenium import webdriver\n",
    "from selenium.webdriver.common.by import By\n",
    "from selenium.webdriver.chrome.service import Service\n",
    "from webdriver_manager.chrome import ChromeDriverManager\n",
    "import time\n",
    "\n",
    "# ChromeDriver 설치 위치\n",
    "# Window : C:\\Users\\(Username)\\.wdm\\drivers\\chromedriver\\win32\\(ChromeDriver version)\n",
    "driver = webdriver.Chrome(service= Service(ChromeDriverManager().install()))\n",
    "\n",
    "url = \"https://www.naver.com/\"\n",
    "driver.get(url)\n",
    "time.sleep(5)"
   ]
  },
  {
   "cell_type": "markdown",
   "metadata": {},
   "source": [
    "### Selenium Webdriver 기초 조작방법 "
   ]
  },
  {
   "cell_type": "code",
   "execution_count": 11,
   "metadata": {},
   "outputs": [],
   "source": [
    "# 1. 요소 추출\n",
    "element_search=browser.find_element_by_id(\"query\") # browser.find_element_by_() 로 처음의 특정 html 태그 추출\n",
    "element_login=browser.find_element_by_class_name(\"link_login\") # browser.find_elements_by_() 로 모든 특정 html 태그 추출\n",
    "\n",
    "# 2. 키보드 입력\n",
    "element_search.send_keys(\"selenium_test\")   # 문자열 입력\n",
    "element_search.clear()                      # 문자열 지우기\n",
    "\n",
    "# 3. 마우스 클릭\n",
    "element_login.click()\n",
    "\n",
    "# 4. 브라우저 특수키\n",
    "browser.back()    # 뒤로 가기\n",
    "browser.forward() # 앞으로 가기\n",
    "browser.refresh() # 새로고침\n",
    "\n",
    "# 5. 기다리기\n",
    "import time\n",
    "time.sleep(3) # 3초 기다림.\n",
    "\n",
    "# 6. 브라우저 종료\n",
    "# browser.close() # 현재 탭만 종료\n",
    "browser.quit() # 전체 브라우저 종료"
   ]
  }
 ],
 "metadata": {
  "interpreter": {
   "hash": "abe90d89d817704c744490846f37f03b651c163a107fe4c97f00fc3edb7ddbe8"
  },
  "kernelspec": {
   "display_name": "Python 3.8.5 32-bit",
   "language": "python",
   "name": "python3"
  },
  "language_info": {
   "codemirror_mode": {
    "name": "ipython",
    "version": 3
   },
   "file_extension": ".py",
   "mimetype": "text/x-python",
   "name": "python",
   "nbconvert_exporter": "python",
   "pygments_lexer": "ipython3",
   "version": "3.10.6"
  },
  "orig_nbformat": 4
 },
 "nbformat": 4,
 "nbformat_minor": 2
}
