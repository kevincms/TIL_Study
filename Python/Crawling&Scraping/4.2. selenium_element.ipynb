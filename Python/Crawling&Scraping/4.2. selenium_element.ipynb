{
 "cells": [
  {
   "cell_type": "code",
   "execution_count": 2,
   "metadata": {},
   "outputs": [],
   "source": [
    "import os\n",
    "from selenium import webdriver \n",
    "\n",
    "folder_path=os.getcwd()\n",
    "chromedriver_ver=\"/chromedriver(98.0.4758.102).exe\"\n",
    "chromedriver_path=folder_path+chromedriver_ver\n",
    "chromedriver=webdriver.chrome.service.Service(chromedriver_path)\n",
    "\n",
    "browser=webdriver.Chrome(service=chromedriver)\n",
    "\n",
    "url=\"https://www.naver.com/\"\n",
    "browser.get(url)    # 링크로 이동\n",
    "\n",
    "# 1. html 정보 추출\n",
    "soup=browser.page_source"
   ]
  },
  {
   "cell_type": "code",
   "execution_count": 8,
   "metadata": {},
   "outputs": [
    {
     "name": "stderr",
     "output_type": "stream",
     "text": [
      "C:\\Users\\korea\\AppData\\Local\\Temp/ipykernel_19952/3139928219.py:2: DeprecationWarning: find_element_by_* commands are deprecated. Please use find_element() instead\n",
      "  element_search=browser.find_element_by_id(\"query\") # browser.find_element_by_() 로 처음의 특정 html 태그 추출\n",
      "C:\\Users\\korea\\AppData\\Local\\Temp/ipykernel_19952/3139928219.py:3: DeprecationWarning: find_element_by_* commands are deprecated. Please use find_element() instead\n",
      "  element_login=browser.find_element_by_class_name(\"link_login\") # browser.find_elements_by_() 로 모든 특정 html 태그 추출\n"
     ]
    }
   ],
   "source": [
    "\n",
    "\n",
    "element_search=browser.find_element_by_id(\"query\") # browser.find_element_by_() 로 처음의 특정 html 태그 추출\n",
    "element_login=browser.find_element_by_class_name(\"link_login\") # browser.find_elements_by_() 로 모든 특정 html 태그 추출\n"
   ]
  }
 ],
 "metadata": {
  "interpreter": {
   "hash": "abe90d89d817704c744490846f37f03b651c163a107fe4c97f00fc3edb7ddbe8"
  },
  "kernelspec": {
   "display_name": "Python 3.8.5 32-bit",
   "language": "python",
   "name": "python3"
  },
  "language_info": {
   "codemirror_mode": {
    "name": "ipython",
    "version": 3
   },
   "file_extension": ".py",
   "mimetype": "text/x-python",
   "name": "python",
   "nbconvert_exporter": "python",
   "pygments_lexer": "ipython3",
   "version": "3.8.10"
  },
  "orig_nbformat": 4
 },
 "nbformat": 4,
 "nbformat_minor": 2
}
