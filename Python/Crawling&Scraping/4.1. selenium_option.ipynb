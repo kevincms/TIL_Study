{
 "cells": [
  {
   "cell_type": "markdown",
   "metadata": {},
   "source": [
    "### Selenium Webdriver 실행방법 2가지"
   ]
  },
  {
   "cell_type": "code",
   "execution_count": 14,
   "metadata": {},
   "outputs": [],
   "source": [
    "# ver_1 chrome webdriver를 직접 설치해야 함.\n",
    "import os\n",
    "from selenium import webdriver # import webdriver를 하면 이유는 모르지만 한번에 실행되지 않음.\n",
    "\n",
    "folder_path=os.getcwd()\n",
    "chromedriver_ver=\"/chromedriver(98.0.4758.102).exe\"\n",
    "chromedriver_path=folder_path+chromedriver_ver\n",
    "chromedriver=webdriver.chrome.service.Service(chromedriver_path)\n",
    "\n",
    "options=webdriver.chrome.options.Options()\n",
    "case=6\n",
    "\n",
    "if case==1:     # 1. https://www.whatismybrowser.com/detect/what-is-my-user-agent : User-Agent 확인 사이트\n",
    "    user_agent = \"Mozilla/5.0 (Windows NT 10.0; Win64; x64) AppleWebKit/537.36 (KHTML, like Gecko) Chrome/98.0.4758.102 Safari/537.36\"\n",
    "    options.add_argument(\"user-agent=\" + user_agent)\n",
    "elif case==2:   # 2. headless mode (브라우저가 뜨지 않고 실행됨)\n",
    "    options.add_argument(\"headless\") \n",
    "\n",
    "# 브라우저 크기 조절\n",
    "elif case==3:   # 3. 실행되는 브라우저 크기를 지정 (window-size= x, y)\n",
    "    options.add_argument(\"--window-size=600,480\")\n",
    "elif case==4:   # 4. 브라우저가 최대화된 상태로 실행됨.\n",
    "    options.add_argument(\"--start-maximized\") \n",
    "elif case==5:   # 5. 브라우저가 풀스크린 모드(F11)로 실행됨.\n",
    "    options.add_argument(\"--start-fullscreen\") \n",
    "\n",
    "# 기타 옵션\n",
    "elif case==6:   # 6. 브라우저에서 이미지 로딩을 거부\n",
    "    options.add_argument(\"--blink-settings=imagesEnabled=false\") \n",
    "# options.add_argument(\"--mute-audio\") #브라우저에 음소거 옵션을 적용합니다.\n",
    "# options.add_argument(\"incognito\") #시크릿 모드의 브라우저가 실행됩니다.\n",
    "\n",
    "browser=webdriver.Chrome(service=chromedriver,options=options) # 브라우저 실행\n",
    "\n",
    "url=\"https://www.naver.com/\"\n",
    "browser.get(url)    # 링크로 이동"
   ]
  }
 ],
 "metadata": {
  "interpreter": {
   "hash": "abe90d89d817704c744490846f37f03b651c163a107fe4c97f00fc3edb7ddbe8"
  },
  "kernelspec": {
   "display_name": "Python 3.8.5 32-bit",
   "language": "python",
   "name": "python3"
  },
  "language_info": {
   "codemirror_mode": {
    "name": "ipython",
    "version": 3
   },
   "file_extension": ".py",
   "mimetype": "text/x-python",
   "name": "python",
   "nbconvert_exporter": "python",
   "pygments_lexer": "ipython3",
   "version": "3.8.10"
  },
  "orig_nbformat": 4
 },
 "nbformat": 4,
 "nbformat_minor": 2
}
