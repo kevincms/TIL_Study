{
 "cells": [
  {
   "cell_type": "code",
   "execution_count": 1,
   "metadata": {},
   "outputs": [
    {
     "name": "stdout",
     "output_type": "stream",
     "text": [
      "1. [1 2 3]\n",
      "2. [0 1 2 3 4 5 6 7 8 9]\n",
      "3. [3 6]\n",
      "4. [3.  4.2 5.4 6.6 7.8 9. ]\n",
      "5. [0. 0. 0. 0. 0. 0. 0. 0. 0. 0.]\n",
      "6. [1. 1. 1. 1. 1. 1. 1. 1. 1. 1.]\n",
      "7. [1. 1. 0. 0.]\n",
      "8. [[0 1 2 3 4]\n",
      " [5 6 7 8 9]]\n"
     ]
    }
   ],
   "source": [
    "# 기본 행렬\n",
    "import numpy as np\n",
    "\n",
    "count=1\n",
    "matrix=np.array([1,2,3]) # 1. list를 행렬의 형태로 변환\n",
    "print(f\"{count}. {matrix}\")\n",
    "count+=1\n",
    "\n",
    "matrix=np.arange(10) # 2. 연속하는 행렬 생성\n",
    "print(f\"{count}. {matrix}\")\n",
    "count+=1\n",
    "\n",
    "matrix=np.arange(3,9,3) # 3. 등차수열 행렬 생성 시작과 끝 지정 size입력 없을 시 자동 1로 고정\n",
    "print(f\"{count}. {matrix}\")\n",
    "count+=1\n",
    "\n",
    "matrix=np.linspace(3,9,6) # 4. 시작과 끝을 분할하는 행렬 생성\n",
    "print(f\"{count}. {matrix}\")\n",
    "count+=1\n",
    "\n",
    "matrix=np.zeros(10) # 5. 요소가 0인 행렬 생성\n",
    "print(f\"{count}. {matrix}\")\n",
    "count+=1\n",
    "\n",
    "matrix=np.ones(10) # 6. 요소가 1인 행렬 생성\n",
    "print(f\"{count}. {matrix}\")\n",
    "count+=1\n",
    "\n",
    "matrix= np.r_[np.ones(2),np.zeros(2)] # 7. 행렬 붙이기 np.append(ex_num1,ex_num3) 도 가능\n",
    "print(f\"{count}. {matrix}\")\n",
    "count+=1\n",
    "\n",
    "matrix=np.arange(10) # 8. 행렬의 크기 변환\n",
    "matrix=matrix.reshape(2,5)\n",
    "print(f\"{count}. {matrix}\")\n",
    "count+=1\n"
   ]
  },
  {
   "cell_type": "code",
   "execution_count": 2,
   "metadata": {
    "scrolled": false
   },
   "outputs": [
    {
     "name": "stdout",
     "output_type": "stream",
     "text": [
      "1. [[0.52848872 0.46632602 0.88863435]\n",
      " [0.74249061 0.96175442 0.72679531]]\n",
      "2. [[8 7 2]\n",
      " [4 9 4]]\n",
      "3. [ 0.66602166 -0.31005078  0.69902945  0.6362468   1.40721138 -0.43254542\n",
      " -0.24681341  1.34449555  0.14747896  0.3429444  -0.90404902 -0.38139504\n",
      "  0.70117904  1.00325574 -1.00738632 -1.2757906   0.39454192  0.30970829\n",
      "  0.14908595  0.70276386 -0.62396463 -0.30075077 -1.36801795  1.10078104\n",
      " -0.08789926 -0.21374382 -0.50100705 -0.85789499  0.24486591  2.28698107]\n",
      "4. 0.12084273255877812\n",
      "5. 0.835365832210591\n"
     ]
    },
    {
     "data": {
      "text/plain": [
       "\"\\nmatrix=np.random.randn(5)\\nnp.save('datafile_ex1.npy',matrix) # 행렬 저장\\nmatrix=[]\\nprint(matrix)\\nmatrix=np.load('datafile_ex1.npy')\\nprint(matrix)\\n\""
      ]
     },
     "execution_count": 2,
     "metadata": {},
     "output_type": "execute_result"
    }
   ],
   "source": [
    "# 랜덤 데이터\n",
    "import numpy as np\n",
    "\n",
    "count=1\n",
    "matrix=np.random.rand(2,3) # 1. 0~1사이의 균일한 분포\n",
    "print(f\"{count}. {matrix}\")\n",
    "count+=1\n",
    "\n",
    "matrix=np.random.randint(1,10,[2,3]) # 2. start에서 end까지의 임의의 정수값으로 이뤄진 size 크기의 행렬\n",
    "print(f\"{count}. {matrix}\")\n",
    "count+=1\n",
    "\n",
    "matrix=np.random.randn(30) # 3. 평균 0 분산 1의 가우스 분포\n",
    "print(f\"{count}. {matrix}\")\n",
    "count+=1\n",
    "\n",
    "mean=np.mean(matrix) # 4. 평균 \n",
    "print(f\"{count}. {mean}\")\n",
    "count+=1\n",
    "\n",
    "std=np.std(matrix) # 5. 표준편차\n",
    "print(f\"{count}. {std}\")\n",
    "count+=1\n",
    "\n",
    "'''\n",
    "matrix=np.random.randn(5)\n",
    "np.save('datafile_ex1.npy',matrix) # 행렬 저장\n",
    "matrix=[]\n",
    "print(matrix)\n",
    "matrix=np.load('datafile_ex1.npy')\n",
    "print(matrix)\n",
    "'''"
   ]
  },
  {
   "cell_type": "code",
   "execution_count": 6,
   "metadata": {},
   "outputs": [
    {
     "name": "stdout",
     "output_type": "stream",
     "text": [
      "1. [0 1 2 3 4 5 6 7 8 9] [1.00000000e+00 2.71828183e+00 7.38905610e+00 2.00855369e+01\n",
      " 5.45981500e+01 1.48413159e+02 4.03428793e+02 1.09663316e+03\n",
      " 2.98095799e+03 8.10308393e+03]\n"
     ]
    }
   ],
   "source": [
    "# 특수 연산\n",
    "import numpy as np\n",
    "\n",
    "count=1\n",
    "matrix=np.arange(10) \n",
    "print(f\"{count}. {matrix} {np.exp(matrix)}\") # 1. e(자연상수)의 거듭제곱 연산\n",
    "count+=1"
   ]
  }
 ],
 "metadata": {
  "kernelspec": {
   "display_name": "Python 3",
   "language": "python",
   "name": "python3"
  },
  "language_info": {
   "codemirror_mode": {
    "name": "ipython",
    "version": 3
   },
   "file_extension": ".py",
   "mimetype": "text/x-python",
   "name": "python",
   "nbconvert_exporter": "python",
   "pygments_lexer": "ipython3",
   "version": "3.11.6"
  }
 },
 "nbformat": 4,
 "nbformat_minor": 2
}
